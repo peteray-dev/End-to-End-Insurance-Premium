{
 "cells": [
  {
   "cell_type": "code",
   "execution_count": 1,
   "metadata": {},
   "outputs": [],
   "source": [
    "import os"
   ]
  },
  {
   "cell_type": "code",
   "execution_count": 2,
   "metadata": {},
   "outputs": [
    {
     "data": {
      "text/plain": [
       "'c:\\\\Users\\\\user\\\\Desktop\\\\Insurance E2E ML\\\\Insurance-Premium-End-to-End-\\\\research'"
      ]
     },
     "execution_count": 2,
     "metadata": {},
     "output_type": "execute_result"
    }
   ],
   "source": [
    "%pwd"
   ]
  },
  {
   "cell_type": "code",
   "execution_count": 3,
   "metadata": {},
   "outputs": [],
   "source": [
    "os.chdir('../')"
   ]
  },
  {
   "cell_type": "code",
   "execution_count": 4,
   "metadata": {},
   "outputs": [
    {
     "data": {
      "text/plain": [
       "'c:\\\\Users\\\\user\\\\Desktop\\\\Insurance E2E ML\\\\Insurance-Premium-End-to-End-'"
      ]
     },
     "execution_count": 4,
     "metadata": {},
     "output_type": "execute_result"
    }
   ],
   "source": [
    "%pwd"
   ]
  },
  {
   "cell_type": "code",
   "execution_count": 11,
   "metadata": {},
   "outputs": [],
   "source": [
    "from dataclasses import dataclass\n",
    "from pathlib import Path\n",
    "\n",
    "\n",
    "@dataclass(frozen=True)\n",
    "class ModelEvaluationConfig:\n",
    "    root_dir: Path\n",
    "    test_data_path: Path\n",
    "    train_data_path: Path\n",
    "    model_path: Path\n",
    "    all_params: dict\n",
    "    metric_file_name: Path\n",
    "    target_column: str"
   ]
  },
  {
   "cell_type": "code",
   "execution_count": 12,
   "metadata": {},
   "outputs": [],
   "source": [
    "from src.inproject.constants import *\n",
    "from src.inproject.utils.common import read_yaml, create_directories"
   ]
  },
  {
   "cell_type": "code",
   "execution_count": 13,
   "metadata": {},
   "outputs": [],
   "source": [
    "# for src configuration\n",
    "class ConfigurationManager:\n",
    "    def __init__(self, \n",
    "                 config_pathway=CONFIG_FILE_PATH, \n",
    "                 param_pathway=PARAM_FILE_PATH, \n",
    "                 schema_pathway=SCHEMA_FILE_PATH):\n",
    "        \n",
    "        self.config = read_yaml(config_pathway)\n",
    "        self.param = read_yaml(param_pathway)\n",
    "        self.schema = read_yaml(schema_pathway)\n",
    "\n",
    "        create_directories([self.config.artifacts_root])\n",
    "\n",
    "    def get_model_evaluation_config(self) -> ModelEvaluationConfig:\n",
    "            config = self.config.model_evaluation\n",
    "            params = self.param.LGBMRegressor\n",
    "            schema = self.schema.TARGET_COLUMN\n",
    "\n",
    "            create_directories([config.root_dir])\n",
    "\n",
    "            data_evaluation_config = ModelEvaluationConfig(\n",
    "                root_dir = config.root_dir,\n",
    "                test_data_path=config.test_data_path,\n",
    "                train_data_path=config.train_data_path,\n",
    "                model_path=config.model_path,\n",
    "                all_params=params,\n",
    "                metric_file_name=config.metric_file_name,\n",
    "                target_column=schema.name\n",
    "\n",
    "            )\n",
    "\n",
    "            return data_evaluation_config\n"
   ]
  },
  {
   "cell_type": "code",
   "execution_count": 14,
   "metadata": {},
   "outputs": [],
   "source": [
    "# import os\n",
    "import pandas as pd\n",
    "from sklearn.metrics import mean_absolute_error, mean_squared_error, r2_score\n",
    "from urllib.parse import urlparse\n",
    "import numpy as np \n",
    "import joblib\n",
    "from src.inproject.utils.common import save_json\n"
   ]
  },
  {
   "cell_type": "code",
   "execution_count": 15,
   "metadata": {},
   "outputs": [],
   "source": [
    "class ModelEvaluation:\n",
    "    def __init__(self, config: ModelEvaluationConfig):\n",
    "        self.config = config\n",
    "    \n",
    "    def eval_metrics(self, actual, pred):\n",
    "        rmse=np.sqrt(mean_squared_error(actual, pred))\n",
    "        mae = mean_absolute_error(actual, pred)\n",
    "        r2 = r2_score(actual, pred)\n",
    "\n",
    "        return rmse, mae, r2\n",
    "    \n",
    "    def save_result(self):\n",
    "    # Load test data and the trained model\n",
    "        test_data = pd.read_csv(self.config.test_data_path)\n",
    "        model = joblib.load(self.config.model_path)\n",
    "\n",
    "        # Prepare test features and target\n",
    "        test_x = test_data.drop([self.config.target_column], axis=1)\n",
    "        test_y = test_data[[self.config.target_column]]\n",
    "\n",
    "        # Predictions and metrics for the test data\n",
    "        predicted_test = model.predict(test_x)\n",
    "        (rmse_test, mae_test, r2_test) = self.eval_metrics(test_y, predicted_test)\n",
    "\n",
    "        # Load training data\n",
    "        train_data = pd.read_csv(self.config.train_data_path)\n",
    "        train_x = train_data.drop([self.config.target_column], axis=1)\n",
    "        train_y = train_data[[self.config.target_column]]\n",
    "\n",
    "        # Predictions and metrics for the training data\n",
    "        predicted_train = model.predict(train_x)\n",
    "        (rmse_train, mae_train, r2_train) = self.eval_metrics(train_y, predicted_train)\n",
    "\n",
    "        # Save metrics for both training and testing\n",
    "        scores = {\n",
    "            'train': {'rmse': rmse_train, 'mae': mae_train, 'r2': r2_train},\n",
    "            'test': {'rmse': rmse_test, 'mae': mae_test, 'r2': r2_test}\n",
    "        }\n",
    "\n",
    "        # Save the metrics to a JSON file\n",
    "        save_json(path=Path(self.config.metric_file_name), data=scores)\n"
   ]
  },
  {
   "cell_type": "code",
   "execution_count": 16,
   "metadata": {},
   "outputs": [
    {
     "name": "stdout",
     "output_type": "stream",
     "text": [
      "[2025-01-03 00:10:19,343: INFO: common: yaml file: config\\config.yaml loaded successfully]\n",
      "[2025-01-03 00:10:19,348: INFO: common: yaml file: params.yaml loaded successfully]\n"
     ]
    },
    {
     "name": "stdout",
     "output_type": "stream",
     "text": [
      "[2025-01-03 00:10:19,357: INFO: common: yaml file: schema.yaml loaded successfully]\n",
      "[2025-01-03 00:10:19,357: INFO: common: created directory at: artifacts]\n",
      "[2025-01-03 00:10:19,365: INFO: common: created directory at: artifacts/model_evaluation]\n",
      "[2025-01-03 00:10:31,026: INFO: common: json file saved at: artifacts\\model_evaluation\\metric.json]\n"
     ]
    }
   ],
   "source": [
    "try:\n",
    "    config = ConfigurationManager()\n",
    "    model_evaluation_config = config.get_model_evaluation_config()\n",
    "    model_evaluation_config = ModelEvaluation(config=model_evaluation_config)\n",
    "    model_evaluation_config.save_result()\n",
    "\n",
    "except Exception as e:\n",
    "    raise e"
   ]
  },
  {
   "cell_type": "code",
   "execution_count": null,
   "metadata": {},
   "outputs": [],
   "source": []
  }
 ],
 "metadata": {
  "kernelspec": {
   "display_name": "inproj",
   "language": "python",
   "name": "python3"
  },
  "language_info": {
   "codemirror_mode": {
    "name": "ipython",
    "version": 3
   },
   "file_extension": ".py",
   "mimetype": "text/x-python",
   "name": "python",
   "nbconvert_exporter": "python",
   "pygments_lexer": "ipython3",
   "version": "3.8.20"
  }
 },
 "nbformat": 4,
 "nbformat_minor": 2
}
